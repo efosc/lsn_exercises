{
 "cells": [
  {
   "cell_type": "markdown",
   "metadata": {},
   "source": [
    "## Exericise 11\n",
    "\n",
    "### Introduction"
   ]
  },
  {
   "cell_type": "markdown",
   "metadata": {},
   "source": [
    "The aim of this exercise is to fit a linear function $f(x)=2x+1$ using a single neuron neural network.\n",
    "At first, the dataset for training and testing are created:\n",
    "1. *training set*: measures used to train the model and optimize regression parameters. Points in this set are obtained by adding a gaussian noise to the linear target function,\n",
    "2. *validation set* (10% of the training set): to test the model accuracy on a separate set not involved in the training process. Like the training set, this is evaluated from linear target function + gaussian noise with same $\\sigma$ as in the training set,\n",
    "3. *target set*: the actual target function without the gaussian noise. The model accuracy is evaluated on this set as well.\n",
    "\n",
    "The following graph reports the three dataset as an example, using 100 points for the training set, 10 points for the validation and target set (the latter is represented as a straight line, the other two as scatterplots)."
   ]
  },
  {
   "cell_type": "code",
   "execution_count": 2,
   "metadata": {},
   "outputs": [],
   "source": [
    "### builiding training and validation sets\n",
    "import numpy as np\n",
    "import matplotlib.pyplot as plt"
   ]
  },
  {
   "cell_type": "code",
   "execution_count": 3,
   "metadata": {},
   "outputs": [],
   "source": [
    "# target parameters of f(x) = m*x + b\n",
    "m = 2 # slope\n",
    "b = 1 # intersect"
   ]
  },
  {
   "cell_type": "code",
   "execution_count": 5,
   "metadata": {},
   "outputs": [],
   "source": [
    "# generate training inputs\n",
    "np.random.seed(0)\n",
    "x_train = np.random.uniform(-1, 1, 100)\n",
    "x_valid = np.random.uniform(-1, 1, 10)\n",
    "x_valid.sort()\n",
    "y_target = m * x_valid + b # ideal (target) linear function\n",
    "\n",
    "sigma = 0.5 # noise standard deviation\n",
    "y_train = np.random.normal(m * x_train + b, sigma) # actual measures from which we want to guess regression parameters\n",
    "y_valid = np.random.normal(m * x_valid + b, sigma)"
   ]
  },
  {
   "cell_type": "code",
   "execution_count": 6,
   "metadata": {},
   "outputs": [
    {
     "data": {
      "image/png": "[encoded data removed]",
      "text/plain": [
       "<Figure size 648x432 with 1 Axes>"
      ]
     },
     "metadata": {
      "needs_background": "light"
     },
     "output_type": "display_data"
    }
   ],
   "source": [
    "# plot training and target dataset (sigma = 0.5)\n",
    "import matplotlib.pyplot as plt\n",
    "plt.figure(figsize=(9,6))\n",
    "plt.plot(x_valid, y_target, color = \"maroon\", label = \"Target function\")\n",
    "plt.scatter(x_valid, y_valid, color='magenta', s=30, label=\"Validation set\")\n",
    "plt.scatter(x_train, y_train, color = \"darkorange\", s=15, label=\"Training set\")\n",
    "plt.xlabel(\"x\",size=13)\n",
    "plt.ylabel(\"y\",size=13)\n",
    "plt.title(\"Training and validation sets and target function\")\n",
    "plt.legend(loc=\"lower right\", fontsize=13)\n",
    "plt.grid(True); plt.show()"
   ]
  },
  {
   "cell_type": "markdown",
   "metadata": {},
   "source": [
    "### 10.1\n",
    "This first part of Lecture 11 focuses on three parameters: $N_{train}$ (the training set size), $\\sigma$ (the gaussian noise standard deviation applied on the training and validation sets), $N_{epochs}$ (an epoch is a single run of the NN during the training phase). The mean sqaured error was used as loss function in the whole exercise.\n",
    "\n",
    "At first these parameters were set to: $N_{train} = 100$, $\\sigma=0$, $N_{epochs}=30$. With this parameters setting, the loss function evaluated on the validation set resulted to be $\\approx 0.3$. After that, the training set size $N_{train}$, $\\sigma$ and the number of epochs $N_{epochs}$ were varied to see how the model is related to these parameters and to improve the fitting. The script was simply run several times varying manually $N_{train}$, $\\sigma$ and $N_{epochs}$ to find the best combination of the three parameters."
   ]
  },
  {
   "cell_type": "code",
   "execution_count": 1,
   "metadata": {},
   "outputs": [],
   "source": [
    "import tensorflow as tf\n",
    "from tensorflow import keras"
   ]
  },
  {
   "cell_type": "code",
   "execution_count": null,
   "metadata": {},
   "outputs": [],
   "source": [
    "### plot results\n",
    "x_predicted = np.random.uniform(-1, 1, 100)\n",
    "y_predicted = model.predict(x_predicted)\n",
    "\n",
    "plt.figure(figsize=(7,4))\n",
    "plt.scatter(x_predicted, y_predicted,color='r')\n",
    "plt.plot(x_valid, y_target)\n",
    "plt.xlabel(\"x\",size=12)\n",
    "plt.ylabel(\"y\",size=12)\n",
    "plt.title(\"Predictions vs target function\")\n",
    "plt.legend(loc=\"lower right\", fontsize=12)\n",
    "plt.grid(True)\n",
    "plt.show()"
   ]
  },
  {
   "cell_type": "markdown",
   "metadata": {},
   "source": []
  },
  {
   "cell_type": "code",
   "execution_count": 3,
   "metadata": {},
   "outputs": [],
   "source": [
    "#compose the NN model\n",
    "from tensorflow.keras.models import Sequential\n",
    "from tensorflow.keras.layers import Dense, Activation\n",
    "from tensorflow.keras import backend as K\n",
    "from tensorflow.keras.utils import get_custom_objects\n",
    "\n",
    "model = tf.keras.Sequential()\n",
    "## one layer with one input\n",
    "model.add(Dense(1, input_shape=(1,)))\n",
    "\n",
    "# compile the model choosing optimizer, loss and metrics objects\n",
    "model.compile(optimizer='sgd', loss='mse', metrics=['mse'])"
   ]
  },
  {
   "cell_type": "code",
   "execution_count": 4,
   "metadata": {},
   "outputs": [
    {
     "name": "stdout",
     "output_type": "stream",
     "text": [
      "Model: \"sequential\"\n",
      "_________________________________________________________________\n",
      "Layer (type)                 Output Shape              Param #   \n",
      "=================================================================\n",
      "dense (Dense)                (None, 1)                 2         \n",
      "=================================================================\n",
      "Total params: 2\n",
      "Trainable params: 2\n",
      "Non-trainable params: 0\n",
      "_________________________________________________________________\n"
     ]
    }
   ],
   "source": [
    "model.summary()"
   ]
  },
  {
   "cell_type": "code",
   "execution_count": 28,
   "metadata": {},
   "outputs": [],
   "source": [
    "loss_valid = []\n",
    "loss_target = []\n",
    "acc_target = []\n",
    "acc_valid = []"
   ]
  },
  {
   "cell_type": "code",
   "execution_count": 31,
   "metadata": {
    "scrolled": true
   },
   "outputs": [
    {
     "name": "stdout",
     "output_type": "stream",
     "text": [
      "Train on 1000 samples, validate on 10 samples\n",
      "Epoch 1/100\n",
      "1000/1000 [==============================] - 0s 286us/sample - loss: 0.0852 - mse: 0.0852 - val_loss: 0.0695 - val_mse: 0.0695\n",
      "Epoch 2/100\n",
      "1000/1000 [==============================] - 0s 177us/sample - loss: 0.0846 - mse: 0.0846 - val_loss: 0.0670 - val_mse: 0.0670\n",
      "Epoch 3/100\n",
      "1000/1000 [==============================] - 0s 228us/sample - loss: 0.0843 - mse: 0.0843 - val_loss: 0.0654 - val_mse: 0.0654\n",
      "Epoch 4/100\n",
      "1000/1000 [==============================] - 0s 234us/sample - loss: 0.0843 - mse: 0.0843 - val_loss: 0.0642 - val_mse: 0.0642\n",
      "Epoch 5/100\n",
      "1000/1000 [==============================] - 0s 224us/sample - loss: 0.0843 - mse: 0.0843 - val_loss: 0.0639 - val_mse: 0.0639\n",
      "Epoch 6/100\n",
      "1000/1000 [==============================] - 0s 206us/sample - loss: 0.0842 - mse: 0.0842 - val_loss: 0.0637 - val_mse: 0.0637\n",
      "Epoch 7/100\n",
      "1000/1000 [==============================] - 0s 238us/sample - loss: 0.0842 - mse: 0.0842 - val_loss: 0.0635 - val_mse: 0.0635\n",
      "Epoch 8/100\n",
      "1000/1000 [==============================] - 0s 192us/sample - loss: 0.0842 - mse: 0.0842 - val_loss: 0.0629 - val_mse: 0.0629\n",
      "Epoch 9/100\n",
      "1000/1000 [==============================] - 0s 182us/sample - loss: 0.0842 - mse: 0.0842 - val_loss: 0.0628 - val_mse: 0.0628\n",
      "Epoch 10/100\n",
      "1000/1000 [==============================] - 0s 192us/sample - loss: 0.0842 - mse: 0.0842 - val_loss: 0.0637 - val_mse: 0.0637\n",
      "Epoch 11/100\n",
      "1000/1000 [==============================] - 0s 203us/sample - loss: 0.0842 - mse: 0.0842 - val_loss: 0.0628 - val_mse: 0.0628\n",
      "Epoch 12/100\n",
      "1000/1000 [==============================] - 0s 205us/sample - loss: 0.0842 - mse: 0.0842 - val_loss: 0.0630 - val_mse: 0.0630\n",
      "Epoch 13/100\n",
      "1000/1000 [==============================] - 0s 184us/sample - loss: 0.0842 - mse: 0.0842 - val_loss: 0.0635 - val_mse: 0.0635\n",
      "Epoch 14/100\n",
      "1000/1000 [==============================] - 0s 210us/sample - loss: 0.0842 - mse: 0.0842 - val_loss: 0.0629 - val_mse: 0.0629\n",
      "Epoch 15/100\n",
      "1000/1000 [==============================] - 0s 198us/sample - loss: 0.0842 - mse: 0.0842 - val_loss: 0.0633 - val_mse: 0.0633\n",
      "Epoch 16/100\n",
      "1000/1000 [==============================] - 0s 184us/sample - loss: 0.0842 - mse: 0.0842 - val_loss: 0.0638 - val_mse: 0.0638\n",
      "Epoch 17/100\n",
      "1000/1000 [==============================] - 0s 196us/sample - loss: 0.0842 - mse: 0.0842 - val_loss: 0.0634 - val_mse: 0.0634\n",
      "Epoch 18/100\n",
      "1000/1000 [==============================] - 0s 210us/sample - loss: 0.0842 - mse: 0.0842 - val_loss: 0.0633 - val_mse: 0.0633\n",
      "Epoch 19/100\n",
      "1000/1000 [==============================] - 0s 176us/sample - loss: 0.0842 - mse: 0.0842 - val_loss: 0.0637 - val_mse: 0.0637\n",
      "Epoch 20/100\n",
      "1000/1000 [==============================] - 0s 173us/sample - loss: 0.0842 - mse: 0.0842 - val_loss: 0.0632 - val_mse: 0.0632\n",
      "Epoch 21/100\n",
      "1000/1000 [==============================] - 0s 200us/sample - loss: 0.0842 - mse: 0.0842 - val_loss: 0.0626 - val_mse: 0.0626\n",
      "Epoch 22/100\n",
      "1000/1000 [==============================] - 0s 194us/sample - loss: 0.0842 - mse: 0.0842 - val_loss: 0.0625 - val_mse: 0.0625\n",
      "Epoch 23/100\n",
      "1000/1000 [==============================] - 0s 206us/sample - loss: 0.0843 - mse: 0.0843 - val_loss: 0.0631 - val_mse: 0.0631\n",
      "Epoch 24/100\n",
      "1000/1000 [==============================] - 0s 190us/sample - loss: 0.0842 - mse: 0.0842 - val_loss: 0.0629 - val_mse: 0.0629\n",
      "Epoch 25/100\n",
      "1000/1000 [==============================] - 0s 200us/sample - loss: 0.0842 - mse: 0.0842 - val_loss: 0.0636 - val_mse: 0.0636\n",
      "Epoch 26/100\n",
      "1000/1000 [==============================] - 0s 194us/sample - loss: 0.0842 - mse: 0.0842 - val_loss: 0.0630 - val_mse: 0.0630\n",
      "Epoch 27/100\n",
      "1000/1000 [==============================] - 0s 185us/sample - loss: 0.0842 - mse: 0.0842 - val_loss: 0.0630 - val_mse: 0.0630\n",
      "Epoch 28/100\n",
      "1000/1000 [==============================] - 0s 176us/sample - loss: 0.0843 - mse: 0.0843 - val_loss: 0.0631 - val_mse: 0.0631\n",
      "Epoch 29/100\n",
      "1000/1000 [==============================] - 0s 177us/sample - loss: 0.0842 - mse: 0.0842 - val_loss: 0.0631 - val_mse: 0.0631\n",
      "Epoch 30/100\n",
      "1000/1000 [==============================] - 0s 182us/sample - loss: 0.0842 - mse: 0.0842 - val_loss: 0.0634 - val_mse: 0.0634\n",
      "Epoch 31/100\n",
      "1000/1000 [==============================] - 0s 174us/sample - loss: 0.0842 - mse: 0.0842 - val_loss: 0.0629 - val_mse: 0.0629\n",
      "Epoch 32/100\n",
      "1000/1000 [==============================] - 0s 178us/sample - loss: 0.0842 - mse: 0.0842 - val_loss: 0.0632 - val_mse: 0.0632\n",
      "Epoch 33/100\n",
      "1000/1000 [==============================] - 0s 179us/sample - loss: 0.0842 - mse: 0.0842 - val_loss: 0.0641 - val_mse: 0.0641\n",
      "Epoch 34/100\n",
      "1000/1000 [==============================] - 0s 176us/sample - loss: 0.0842 - mse: 0.0842 - val_loss: 0.0636 - val_mse: 0.0636\n",
      "Epoch 35/100\n",
      "1000/1000 [==============================] - 0s 179us/sample - loss: 0.0842 - mse: 0.0842 - val_loss: 0.0641 - val_mse: 0.0641\n",
      "Epoch 36/100\n",
      "1000/1000 [==============================] - 0s 177us/sample - loss: 0.0842 - mse: 0.0842 - val_loss: 0.0635 - val_mse: 0.0635\n",
      "Epoch 37/100\n",
      "1000/1000 [==============================] - 0s 184us/sample - loss: 0.0842 - mse: 0.0842 - val_loss: 0.0628 - val_mse: 0.0628\n",
      "Epoch 38/100\n",
      "1000/1000 [==============================] - 0s 178us/sample - loss: 0.0842 - mse: 0.0842 - val_loss: 0.0633 - val_mse: 0.0633\n",
      "Epoch 39/100\n",
      "1000/1000 [==============================] - 0s 182us/sample - loss: 0.0842 - mse: 0.0842 - val_loss: 0.0635 - val_mse: 0.0635\n",
      "Epoch 40/100\n",
      "1000/1000 [==============================] - 0s 172us/sample - loss: 0.0842 - mse: 0.0842 - val_loss: 0.0627 - val_mse: 0.0627\n",
      "Epoch 41/100\n",
      "1000/1000 [==============================] - 0s 177us/sample - loss: 0.0842 - mse: 0.0842 - val_loss: 0.0633 - val_mse: 0.0633\n",
      "Epoch 42/100\n",
      "1000/1000 [==============================] - 0s 181us/sample - loss: 0.0842 - mse: 0.0842 - val_loss: 0.0637 - val_mse: 0.0637\n",
      "Epoch 43/100\n",
      "1000/1000 [==============================] - 0s 173us/sample - loss: 0.0842 - mse: 0.0842 - val_loss: 0.0634 - val_mse: 0.0634\n",
      "Epoch 44/100\n",
      "1000/1000 [==============================] - 0s 172us/sample - loss: 0.0842 - mse: 0.0842 - val_loss: 0.0635 - val_mse: 0.0635\n",
      "Epoch 45/100\n",
      "1000/1000 [==============================] - 0s 178us/sample - loss: 0.0842 - mse: 0.0842 - val_loss: 0.0640 - val_mse: 0.0640\n",
      "Epoch 46/100\n",
      "1000/1000 [==============================] - 0s 180us/sample - loss: 0.0842 - mse: 0.0842 - val_loss: 0.0644 - val_mse: 0.0644\n",
      "Epoch 47/100\n",
      "1000/1000 [==============================] - 0s 176us/sample - loss: 0.0842 - mse: 0.0842 - val_loss: 0.0649 - val_mse: 0.0649\n",
      "Epoch 48/100\n",
      "1000/1000 [==============================] - 0s 177us/sample - loss: 0.0843 - mse: 0.0843 - val_loss: 0.0644 - val_mse: 0.0644\n",
      "Epoch 49/100\n",
      "1000/1000 [==============================] - 0s 170us/sample - loss: 0.0842 - mse: 0.0842 - val_loss: 0.0640 - val_mse: 0.0640\n",
      "Epoch 50/100\n",
      "1000/1000 [==============================] - 0s 179us/sample - loss: 0.0842 - mse: 0.0842 - val_loss: 0.0635 - val_mse: 0.0635\n",
      "Epoch 51/100\n",
      "1000/1000 [==============================] - 0s 177us/sample - loss: 0.0843 - mse: 0.0843 - val_loss: 0.0640 - val_mse: 0.0640\n",
      "Epoch 52/100\n",
      "1000/1000 [==============================] - 0s 177us/sample - loss: 0.0842 - mse: 0.0842 - val_loss: 0.0639 - val_mse: 0.0639\n",
      "Epoch 53/100\n",
      "1000/1000 [==============================] - 0s 181us/sample - loss: 0.0842 - mse: 0.0842 - val_loss: 0.0630 - val_mse: 0.0630\n",
      "Epoch 54/100\n",
      "1000/1000 [==============================] - 0s 174us/sample - loss: 0.0842 - mse: 0.0842 - val_loss: 0.0637 - val_mse: 0.0637\n",
      "Epoch 55/100\n",
      "1000/1000 [==============================] - 0s 178us/sample - loss: 0.0842 - mse: 0.0842 - val_loss: 0.0633 - val_mse: 0.0633\n",
      "Epoch 56/100\n",
      "1000/1000 [==============================] - 0s 172us/sample - loss: 0.0842 - mse: 0.0842 - val_loss: 0.0628 - val_mse: 0.0628\n",
      "Epoch 57/100\n",
      "1000/1000 [==============================] - 0s 177us/sample - loss: 0.0842 - mse: 0.0842 - val_loss: 0.0633 - val_mse: 0.0633\n",
      "Epoch 58/100\n",
      "1000/1000 [==============================] - 0s 189us/sample - loss: 0.0842 - mse: 0.0842 - val_loss: 0.0637 - val_mse: 0.0637\n",
      "Epoch 59/100\n",
      "1000/1000 [==============================] - 0s 170us/sample - loss: 0.0842 - mse: 0.0842 - val_loss: 0.0635 - val_mse: 0.0635\n",
      "Epoch 60/100\n",
      "1000/1000 [==============================] - 0s 176us/sample - loss: 0.0842 - mse: 0.0842 - val_loss: 0.0638 - val_mse: 0.0638\n",
      "Epoch 61/100\n",
      "1000/1000 [==============================] - 0s 187us/sample - loss: 0.0842 - mse: 0.0842 - val_loss: 0.0636 - val_mse: 0.0636\n",
      "Epoch 62/100\n",
      "1000/1000 [==============================] - 0s 182us/sample - loss: 0.0843 - mse: 0.0843 - val_loss: 0.0629 - val_mse: 0.0629\n",
      "Epoch 63/100\n",
      "1000/1000 [==============================] - 0s 171us/sample - loss: 0.0842 - mse: 0.0842 - val_loss: 0.0633 - val_mse: 0.0633\n",
      "Epoch 64/100\n",
      "1000/1000 [==============================] - 0s 185us/sample - loss: 0.0842 - mse: 0.0842 - val_loss: 0.0632 - val_mse: 0.0632\n",
      "Epoch 65/100\n",
      "1000/1000 [==============================] - 0s 187us/sample - loss: 0.0842 - mse: 0.0842 - val_loss: 0.0627 - val_mse: 0.0627\n",
      "Epoch 66/100\n",
      "1000/1000 [==============================] - 0s 224us/sample - loss: 0.0842 - mse: 0.0842 - val_loss: 0.0630 - val_mse: 0.0630\n",
      "Epoch 67/100\n",
      "1000/1000 [==============================] - 0s 207us/sample - loss: 0.0842 - mse: 0.0842 - val_loss: 0.0628 - val_mse: 0.0628\n",
      "Epoch 68/100\n",
      "1000/1000 [==============================] - 0s 257us/sample - loss: 0.0842 - mse: 0.0842 - val_loss: 0.0632 - val_mse: 0.0632\n",
      "Epoch 69/100\n",
      "1000/1000 [==============================] - 0s 283us/sample - loss: 0.0842 - mse: 0.0842 - val_loss: 0.0629 - val_mse: 0.0629\n",
      "Epoch 70/100\n",
      "1000/1000 [==============================] - 0s 256us/sample - loss: 0.0842 - mse: 0.0842 - val_loss: 0.0625 - val_mse: 0.0625\n",
      "Epoch 71/100\n",
      "1000/1000 [==============================] - 0s 217us/sample - loss: 0.0842 - mse: 0.0842 - val_loss: 0.0628 - val_mse: 0.0628\n",
      "Epoch 72/100\n",
      "1000/1000 [==============================] - 0s 183us/sample - loss: 0.0842 - mse: 0.0842 - val_loss: 0.0624 - val_mse: 0.0624\n",
      "Epoch 73/100\n",
      "1000/1000 [==============================] - 0s 231us/sample - loss: 0.0842 - mse: 0.0842 - val_loss: 0.0629 - val_mse: 0.0629\n",
      "Epoch 74/100\n",
      "1000/1000 [==============================] - 0s 236us/sample - loss: 0.0842 - mse: 0.0842 - val_loss: 0.0636 - val_mse: 0.0636\n",
      "Epoch 75/100\n",
      "1000/1000 [==============================] - 0s 212us/sample - loss: 0.0842 - mse: 0.0842 - val_loss: 0.0631 - val_mse: 0.0631\n",
      "Epoch 76/100\n",
      "1000/1000 [==============================] - 0s 215us/sample - loss: 0.0842 - mse: 0.0842 - val_loss: 0.0629 - val_mse: 0.0629\n",
      "Epoch 77/100\n",
      "1000/1000 [==============================] - 0s 186us/sample - loss: 0.0842 - mse: 0.0842 - val_loss: 0.0626 - val_mse: 0.0626\n",
      "Epoch 78/100\n",
      "1000/1000 [==============================] - 0s 190us/sample - loss: 0.0842 - mse: 0.0842 - val_loss: 0.0633 - val_mse: 0.0633\n",
      "Epoch 79/100\n",
      "1000/1000 [==============================] - 0s 230us/sample - loss: 0.0842 - mse: 0.0842 - val_loss: 0.0626 - val_mse: 0.0626\n",
      "Epoch 80/100\n",
      "1000/1000 [==============================] - 0s 199us/sample - loss: 0.0842 - mse: 0.0842 - val_loss: 0.0621 - val_mse: 0.0621\n",
      "Epoch 81/100\n",
      "1000/1000 [==============================] - 0s 213us/sample - loss: 0.0843 - mse: 0.0843 - val_loss: 0.0621 - val_mse: 0.0621\n",
      "Epoch 82/100\n",
      "1000/1000 [==============================] - 0s 186us/sample - loss: 0.0843 - mse: 0.0843 - val_loss: 0.0621 - val_mse: 0.0621\n",
      "Epoch 83/100\n",
      "1000/1000 [==============================] - 0s 199us/sample - loss: 0.0842 - mse: 0.0842 - val_loss: 0.0628 - val_mse: 0.0628\n",
      "Epoch 84/100\n",
      "1000/1000 [==============================] - 0s 215us/sample - loss: 0.0842 - mse: 0.0842 - val_loss: 0.0631 - val_mse: 0.0631\n",
      "Epoch 85/100\n",
      "1000/1000 [==============================] - 0s 217us/sample - loss: 0.0842 - mse: 0.0842 - val_loss: 0.0633 - val_mse: 0.0633\n",
      "Epoch 86/100\n",
      "1000/1000 [==============================] - 0s 194us/sample - loss: 0.0842 - mse: 0.0842 - val_loss: 0.0635 - val_mse: 0.0635\n",
      "Epoch 87/100\n",
      "1000/1000 [==============================] - 0s 198us/sample - loss: 0.0842 - mse: 0.0842 - val_loss: 0.0634 - val_mse: 0.0634\n",
      "Epoch 88/100\n",
      "1000/1000 [==============================] - 0s 191us/sample - loss: 0.0842 - mse: 0.0842 - val_loss: 0.0640 - val_mse: 0.0640\n",
      "Epoch 89/100\n",
      "1000/1000 [==============================] - 0s 228us/sample - loss: 0.0842 - mse: 0.0842 - val_loss: 0.0637 - val_mse: 0.0637\n",
      "Epoch 90/100\n",
      "1000/1000 [==============================] - 0s 215us/sample - loss: 0.0842 - mse: 0.0842 - val_loss: 0.0639 - val_mse: 0.0639\n",
      "Epoch 91/100\n",
      "1000/1000 [==============================] - 0s 196us/sample - loss: 0.0842 - mse: 0.0842 - val_loss: 0.0630 - val_mse: 0.0630\n",
      "Epoch 92/100\n",
      "1000/1000 [==============================] - 0s 185us/sample - loss: 0.0842 - mse: 0.0842 - val_loss: 0.0632 - val_mse: 0.0632\n",
      "Epoch 93/100\n",
      "1000/1000 [==============================] - 0s 233us/sample - loss: 0.0842 - mse: 0.0842 - val_loss: 0.0633 - val_mse: 0.0633\n",
      "Epoch 94/100\n",
      "1000/1000 [==============================] - 0s 215us/sample - loss: 0.0842 - mse: 0.0842 - val_loss: 0.0635 - val_mse: 0.0635\n",
      "Epoch 95/100\n",
      "1000/1000 [==============================] - 0s 201us/sample - loss: 0.0842 - mse: 0.0842 - val_loss: 0.0636 - val_mse: 0.0636\n",
      "Epoch 96/100\n",
      "1000/1000 [==============================] - 0s 203us/sample - loss: 0.0842 - mse: 0.0842 - val_loss: 0.0639 - val_mse: 0.0639\n",
      "Epoch 97/100\n",
      "1000/1000 [==============================] - 0s 231us/sample - loss: 0.0842 - mse: 0.0842 - val_loss: 0.0641 - val_mse: 0.0641\n",
      "Epoch 98/100\n",
      "1000/1000 [==============================] - 0s 196us/sample - loss: 0.0842 - mse: 0.0842 - val_loss: 0.0638 - val_mse: 0.0638\n",
      "Epoch 99/100\n",
      "1000/1000 [==============================] - 0s 224us/sample - loss: 0.0842 - mse: 0.0842 - val_loss: 0.0636 - val_mse: 0.0636\n",
      "Epoch 100/100\n",
      "1000/1000 [==============================] - 0s 187us/sample - loss: 0.0842 - mse: 0.0842 - val_loss: 0.0646 - val_mse: 0.0646\n",
      "10/1 [============================================================================================================================================================================================================================================================================================================] - 0s 496us/sample - loss: 0.0646 - mse: 0.0646\n",
      "10/1 [============================================================================================================================================================================================================================================================================================================] - 0s 416us/sample - loss: 0.0646 - mse: 0.0646\n",
      "10/1 [============================================================================================================================================================================================================================================================================================================] - 0s 423us/sample - loss: 1.2937e-04 - mse: 1.2937e-04\n",
      "10/1 [============================================================================================================================================================================================================================================================================================================] - 0s 627us/sample - loss: 1.2937e-04 - mse: 1.2937e-04\n"
     ]
    }
   ],
   "source": [
    "np.random.seed(0)\n",
    "##  con epoche 100, sigma = 0.3 aumento n train= 200, 500, 1000\n",
    "# generate training inputs\n",
    "x_train = np.random.uniform(-1, 1, 1000)\n",
    "x_valid = np.random.uniform(-1, 1, 10)\n",
    "x_valid.sort()\n",
    "y_target = m * x_valid + b # ideal (target) linear function\n",
    "\n",
    "sigma = 0.3 # noise standard deviation\n",
    "y_train = np.random.normal(m * x_train + b, sigma) # actual measures from which we want to guess regression parameters\n",
    "y_valid = np.random.normal(m * x_valid + b, sigma)\n",
    "    \n",
    "history = model.fit(x=x_train, y=y_train, \n",
    "          batch_size=32, epochs=100,\n",
    "          shuffle=True, # a good idea is to shuffle input before at each epoch\n",
    "          validation_data=(x_valid, y_valid))\n",
    "#evaluate the model\n",
    "score = model.evaluate(x_valid, y_valid, batch_size=320, verbose=1)[0]\n",
    "loss_valid.append(score)\n",
    "acc = model.evaluate(x_valid, y_valid, batch_size=320, verbose=1)[1]\n",
    "acc_valid.append(acc)\n",
    "score2 = model.evaluate(x_valid, y_target, batch_size=320, verbose=1)[0]\n",
    "loss_target.append(score2)\n",
    "acc2 = model.evaluate(x_valid, y_target, batch_size=320, verbose=1)[1]\n",
    "acc_target.append(acc2)"
   ]
  },
  {
   "cell_type": "code",
   "execution_count": 25,
   "metadata": {},
   "outputs": [
    {
     "data": {
      "text/plain": [
       "[0.07292686402797699, 0.07409688830375671]"
      ]
     },
     "execution_count": 25,
     "metadata": {},
     "output_type": "execute_result"
    }
   ],
   "source": [
    "loss_valid"
   ]
  },
  {
   "cell_type": "code",
   "execution_count": 20,
   "metadata": {},
   "outputs": [
    {
     "data": {
      "text/plain": [
       "[0.02578430436551571,\n",
       " 0.002021215856075287,\n",
       " 0.006529194302856922,\n",
       " 0.01594807207584381]"
      ]
     },
     "execution_count": 20,
     "metadata": {},
     "output_type": "execute_result"
    }
   ],
   "source": [
    "loss_target"
   ]
  },
  {
   "cell_type": "code",
   "execution_count": 21,
   "metadata": {},
   "outputs": [
    {
     "name": "stdout",
     "output_type": "stream",
     "text": [
      "sigma:  0.1\n",
      "loss on validation set:  0.037161387503147125 accuracy on validation set:  0.037161388\n",
      "loss on target:  0.02578430436551571 accuracy on target:  0.025784304\n",
      "sigma:  0.3\n",
      "loss on validation set:  0.07512789964675903 accuracy on validation set:  0.0751279\n",
      "loss on target:  0.002021215856075287 accuracy on target:  0.0020212159\n",
      "sigma:  0.5\n",
      "loss on validation set:  0.20996849238872528 accuracy on validation set:  0.20996849\n",
      "loss on target:  0.006529194302856922 accuracy on target:  0.0065291943\n",
      "sigma:  0.7\n",
      "loss on validation set:  0.3987550735473633 accuracy on validation set:  0.39875507\n",
      "loss on target:  0.01594807207584381 accuracy on target:  0.015948072\n"
     ]
    }
   ],
   "source": [
    "## n train = 100, nepochs = 30\n",
    "sigma = [0.1, 0.3, 0.5, 0.7]\n",
    "for s, l1, a1, l2, a2 in zip(sigma, loss_valid, acc_valid, loss_target, acc_target):\n",
    "    print(\"sigma: \",  s )\n",
    "    print(\"loss on validation set: \" , l1, \"accuracy on validation set: \", a1)\n",
    "    print(\"loss on target: \" , l2, \"accuracy on target: \", a2)"
   ]
  },
  {
   "cell_type": "code",
   "execution_count": 27,
   "metadata": {},
   "outputs": [
    {
     "name": "stdout",
     "output_type": "stream",
     "text": [
      "n_epochs:  40\n",
      "loss on validation set:  0.07292686402797699 accuracy on validation set:  0.072926864\n",
      "loss on target:  0.004748870152980089 accuracy on target:  0.00474887\n",
      "n_epochs:  60\n",
      "loss on validation set:  0.07409688830375671 accuracy on validation set:  0.07409689\n",
      "loss on target:  0.004231270402669907 accuracy on target:  0.0042312704\n",
      "n_epochs:  100\n",
      "loss on validation set:  0.07112022489309311 accuracy on validation set:  0.071120225\n",
      "loss on target:  0.002529656747356057 accuracy on target:  0.0025296567\n"
     ]
    }
   ],
   "source": [
    "# ntrain = 100, sigma = 0.3\n",
    "ep = [40, 60, 100]\n",
    "for e, l1, a1, l2, a2 in zip(ep, loss_valid, acc_valid, loss_target, acc_target):\n",
    "    print(\"n_epochs: \",  e )\n",
    "    print(\"loss on validation set: \" , l1, \"accuracy on validation set: \", a1)\n",
    "    print(\"loss on target: \" , l2, \"accuracy on target: \", a2)"
   ]
  },
  {
   "cell_type": "code",
   "execution_count": 33,
   "metadata": {},
   "outputs": [
    {
     "name": "stdout",
     "output_type": "stream",
     "text": [
      "n_train:  200\n",
      "loss on validation set:  0.027798552066087723 accuracy on validation set:  0.027798552\n",
      "loss on target:  0.0010142800165340304 accuracy on target:  0.00101428\n",
      "n_train:  500\n",
      "loss on validation set:  0.16937372088432312 accuracy on validation set:  0.16937372\n",
      "loss on target:  0.0011597723932936788 accuracy on target:  0.0011597724\n",
      "n_train:  1000\n",
      "loss on validation set:  0.06456464529037476 accuracy on validation set:  0.064564645\n",
      "loss on target:  0.00012937412247993052 accuracy on target:  0.00012937412\n"
     ]
    }
   ],
   "source": [
    "# nepoche = 100, sigma = 0.3\n",
    "ntrain = [200, 500, 1000]\n",
    "for e, l1, a1, l2, a2 in zip(ntrain, loss_valid, acc_valid, loss_target, acc_target):\n",
    "    print(\"n_train: \",  e )\n",
    "    print(\"loss on validation set: \" , l1, \"accuracy on validation set: \", a1)\n",
    "    print(\"loss on target: \" , l2, \"accuracy on target: \", a2)"
   ]
  },
  {
   "cell_type": "code",
   "execution_count": 41,
   "metadata": {},
   "outputs": [
    {
     "data": {
      "image/png": "[encoded data removed]",
      "text/plain": [
       "<Figure size 648x432 with 1 Axes>"
      ]
     },
     "metadata": {
      "needs_background": "light"
     },
     "output_type": "display_data"
    }
   ],
   "source": [
    "##-> 100 epoche, sigma 0.3,  ntrain = 200\n",
    "\n",
    "plt.figure(figsize=(9,6))\n",
    "plt.plot(history.history['loss'])\n",
    "plt.plot(history.history['val_loss'])\n",
    "plt.title('Model loss',size=13)\n",
    "plt.ylabel('Loss',size=13)\n",
    "plt.xlabel('Epoch',size=13)\n",
    "plt.ylim(0.,0.1)\n",
    "plt.legend(['Train', 'Test'], loc='best',fontsize=13)\n",
    "plt.show()"
   ]
  },
  {
   "cell_type": "code",
   "execution_count": 42,
   "metadata": {},
   "outputs": [
    {
     "data": {
      "image/png": "[encoded data removed]",
      "text/plain": [
       "<Figure size 648x432 with 1 Axes>"
      ]
     },
     "metadata": {
      "needs_background": "light"
     },
     "output_type": "display_data"
    }
   ],
   "source": [
    "x_predicted = np.random.uniform(-1, 1, 100)\n",
    "y_predicted = model.predict(x_predicted)\n",
    "\n",
    "plt.figure(figsize=(9,6))\n",
    "plt.scatter(x_predicted, y_predicted, color = \"r\",s=20, label = \"Predicted\")\n",
    "plt.plot(x_valid, y_target, label = \"Target function\")\n",
    "plt.xlabel(\"x\",size=13)\n",
    "plt.ylabel(\"y\",size=13)\n",
    "plt.title(\"Predictions vs target function\")\n",
    "plt.legend(loc=\"lower right\", fontsize=13)\n",
    "plt.grid(True); plt.show()"
   ]
  },
  {
   "cell_type": "code",
   "execution_count": null,
   "metadata": {},
   "outputs": [],
   "source": []
  }
 ],
 "metadata": {
  "kernelspec": {
   "display_name": "Python 3",
   "language": "python",
   "name": "python3"
  },
  "language_info": {
   "codemirror_mode": {
    "name": "ipython",
    "version": 3
   },
   "file_extension": ".py",
   "mimetype": "text/x-python",
   "name": "python",
   "nbconvert_exporter": "python",
   "pygments_lexer": "ipython3",
   "version": "3.7.7"
  }
 },
 "nbformat": 4,
 "nbformat_minor": 4
}
